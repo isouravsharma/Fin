{
 "cells": [
  {
   "cell_type": "code",
   "execution_count": 1,
   "id": "5d291dea-1fa2-4683-955b-4f929cf20274",
   "metadata": {},
   "outputs": [],
   "source": [
    "## This workbook will have the class and the functions to calculate the metrices"
   ]
  },
  {
   "cell_type": "code",
   "execution_count": 16,
   "id": "95315cf1-289b-4117-a272-872129b2301d",
   "metadata": {},
   "outputs": [],
   "source": [
    "from datetime import datetime\n",
    "import yfinance as yf\n",
    "import pandas as pd"
   ]
  },
  {
   "cell_type": "code",
   "execution_count": 17,
   "id": "90d19477-222c-4735-8d4c-42cb99012469",
   "metadata": {},
   "outputs": [],
   "source": [
    "class LoadData:\n",
    "    \"\"\"This class will load data from both yfinance and the excelbook\"\"\"\n",
    "    def __init__(self, stock):\n",
    "        self.stock = stock\n",
    "        self.start_date = '2014-01-01'\n",
    "        self.end_date = datetime.today().strftime('%Y-%m-%d')\n",
    "\n",
    "    def download_yfinace_data(self, stock):\n",
    "        yf_data = yf.download(self.stock, start=self.start_date, end = self.end_date)\n",
    "        yf_data = yf_data.resample('D').ffill()\n",
    "        yf_data = pd.DataFrame(yf_data['Close'])\n",
    "        return yf_data"
   ]
  },
  {
   "cell_type": "code",
   "execution_count": 19,
   "id": "9464dda5-e575-49ff-8dbf-37f014d717a0",
   "metadata": {},
   "outputs": [
    {
     "name": "stderr",
     "output_type": "stream",
     "text": [
      "[*********************100%%**********************]  1 of 1 completed\n"
     ]
    },
    {
     "data": {
      "text/html": [
       "<div>\n",
       "<style scoped>\n",
       "    .dataframe tbody tr th:only-of-type {\n",
       "        vertical-align: middle;\n",
       "    }\n",
       "\n",
       "    .dataframe tbody tr th {\n",
       "        vertical-align: top;\n",
       "    }\n",
       "\n",
       "    .dataframe thead th {\n",
       "        text-align: right;\n",
       "    }\n",
       "</style>\n",
       "<table border=\"1\" class=\"dataframe\">\n",
       "  <thead>\n",
       "    <tr style=\"text-align: right;\">\n",
       "      <th></th>\n",
       "      <th>Close</th>\n",
       "    </tr>\n",
       "    <tr>\n",
       "      <th>Date</th>\n",
       "      <th></th>\n",
       "    </tr>\n",
       "  </thead>\n",
       "  <tbody>\n",
       "    <tr>\n",
       "      <th>2014-01-01</th>\n",
       "      <td>433.500000</td>\n",
       "    </tr>\n",
       "    <tr>\n",
       "      <th>2014-01-02</th>\n",
       "      <td>435.068756</td>\n",
       "    </tr>\n",
       "    <tr>\n",
       "      <th>2014-01-03</th>\n",
       "      <td>445.643738</td>\n",
       "    </tr>\n",
       "    <tr>\n",
       "      <th>2014-01-04</th>\n",
       "      <td>445.643738</td>\n",
       "    </tr>\n",
       "    <tr>\n",
       "      <th>2014-01-05</th>\n",
       "      <td>445.643738</td>\n",
       "    </tr>\n",
       "    <tr>\n",
       "      <th>...</th>\n",
       "      <td>...</td>\n",
       "    </tr>\n",
       "    <tr>\n",
       "      <th>2024-07-29</th>\n",
       "      <td>1871.099976</td>\n",
       "    </tr>\n",
       "    <tr>\n",
       "      <th>2024-07-30</th>\n",
       "      <td>1877.150024</td>\n",
       "    </tr>\n",
       "    <tr>\n",
       "      <th>2024-07-31</th>\n",
       "      <td>1868.250000</td>\n",
       "    </tr>\n",
       "    <tr>\n",
       "      <th>2024-08-01</th>\n",
       "      <td>1852.599976</td>\n",
       "    </tr>\n",
       "    <tr>\n",
       "      <th>2024-08-02</th>\n",
       "      <td>1821.199951</td>\n",
       "    </tr>\n",
       "  </tbody>\n",
       "</table>\n",
       "<p>3867 rows × 1 columns</p>\n",
       "</div>"
      ],
      "text/plain": [
       "                  Close\n",
       "Date                   \n",
       "2014-01-01   433.500000\n",
       "2014-01-02   435.068756\n",
       "2014-01-03   445.643738\n",
       "2014-01-04   445.643738\n",
       "2014-01-05   445.643738\n",
       "...                 ...\n",
       "2024-07-29  1871.099976\n",
       "2024-07-30  1877.150024\n",
       "2024-07-31  1868.250000\n",
       "2024-08-01  1852.599976\n",
       "2024-08-02  1821.199951\n",
       "\n",
       "[3867 rows x 1 columns]"
      ]
     },
     "execution_count": 19,
     "metadata": {},
     "output_type": "execute_result"
    }
   ],
   "source": [
    "# Test\n",
    "data = LoadData('INFY.NS')\n",
    "data.download_yfinace_data('INFY.NS')"
   ]
  },
  {
   "cell_type": "code",
   "execution_count": null,
   "id": "91878ac1-415e-4d60-8249-4f765ad25b2b",
   "metadata": {},
   "outputs": [],
   "source": [
    "# Class to read data from the excel"
   ]
  }
 ],
 "metadata": {
  "kernelspec": {
   "display_name": "Python 3 (ipykernel)",
   "language": "python",
   "name": "python3"
  },
  "language_info": {
   "codemirror_mode": {
    "name": "ipython",
    "version": 3
   },
   "file_extension": ".py",
   "mimetype": "text/x-python",
   "name": "python",
   "nbconvert_exporter": "python",
   "pygments_lexer": "ipython3",
   "version": "3.11.7"
  }
 },
 "nbformat": 4,
 "nbformat_minor": 5
}

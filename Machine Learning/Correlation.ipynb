{
 "cells": [
  {
   "cell_type": "code",
   "execution_count": 1,
   "id": "41e69bdb-f9d6-4c7c-ba35-9efa5fd715fc",
   "metadata": {},
   "outputs": [],
   "source": [
    "\n",
    "\n",
    "import pandas as pd\n",
    "import numpy as np\n",
    "import matplotlib.pyplot as plt\n",
    "import plotly.express as px\n",
    "import yfinance as yf\n",
    "import datetime as dt\n",
    "import plotly.graph_objects as go\n",
    "from PIL import Image\n",
    "import os\n",
    "import glob"
   ]
  },
  {
   "cell_type": "code",
   "execution_count": 4,
   "id": "bf7312c1-1a0b-41ea-befa-54af3d4f8442",
   "metadata": {},
   "outputs": [
    {
     "name": "stderr",
     "output_type": "stream",
     "text": [
      "[*********************100%%**********************]  1 of 1 completed\n"
     ]
    }
   ],
   "source": [
    "# List of stock\n",
    "tickers = ['^GSPC']\n",
    "for stock in tickers:\n",
    "    # Ticker = \"ICICIBANK.NS\"\n",
    "    start_date = \"2020-01-01\"\n",
    "    end_date = \"2024-12-31\"\n",
    "    download_data = yf.download(tickers= stock, start=start_date, end=end_date)\n",
    "    data = pd.DataFrame(download_data['Close'])\n"
   ]
  },
  {
   "cell_type": "code",
   "execution_count": 3,
   "id": "0872310f-8604-48f0-a092-a0210a4dc7b6",
   "metadata": {},
   "outputs": [],
   "source": [
    "nifty = data.copy()"
   ]
  },
  {
   "cell_type": "code",
   "execution_count": 5,
   "id": "b88d1413-d3e8-4373-9b5f-d3bc90cc4b8f",
   "metadata": {},
   "outputs": [],
   "source": [
    "SP = data.copy()"
   ]
  },
  {
   "cell_type": "code",
   "execution_count": 10,
   "id": "050beaab-1a3b-45b6-83de-2e0924ce30a9",
   "metadata": {},
   "outputs": [
    {
     "data": {
      "text/plain": [
       "Close    0.920907\n",
       "dtype: float64"
      ]
     },
     "execution_count": 10,
     "metadata": {},
     "output_type": "execute_result"
    }
   ],
   "source": [
    "SP.corrwith(nifty.Close)"
   ]
  },
  {
   "cell_type": "code",
   "execution_count": null,
   "id": "f39724a9-09b9-4b7f-a6ab-2ee16b311aff",
   "metadata": {},
   "outputs": [],
   "source": []
  }
 ],
 "metadata": {
  "kernelspec": {
   "display_name": "Python 3 (ipykernel)",
   "language": "python",
   "name": "python3"
  },
  "language_info": {
   "codemirror_mode": {
    "name": "ipython",
    "version": 3
   },
   "file_extension": ".py",
   "mimetype": "text/x-python",
   "name": "python",
   "nbconvert_exporter": "python",
   "pygments_lexer": "ipython3",
   "version": "3.11.7"
  }
 },
 "nbformat": 4,
 "nbformat_minor": 5
}

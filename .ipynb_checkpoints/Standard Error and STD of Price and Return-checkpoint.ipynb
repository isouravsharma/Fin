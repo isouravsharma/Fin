{
 "cells": [
  {
   "cell_type": "markdown",
   "id": "b7395807-a531-42e0-911f-9a6063947eb5",
   "metadata": {},
   "source": [
    "Import Libraries"
   ]
  },
  {
   "cell_type": "code",
   "execution_count": 65,
   "id": "7451ed35-ce8f-4aef-badf-bf1aad3256f9",
   "metadata": {},
   "outputs": [],
   "source": [
    "import pandas as pd\n",
    "import numpy as np\n",
    "import matplotlib.pyplot as plt\n",
    "import plotly.express as px\n",
    "import yfinance as yf\n",
    "import datetime as dt\n",
    "import plotly.graph_objects as go\n",
    "from PIL import Image\n",
    "import os\n",
    "import glob"
   ]
  },
  {
   "cell_type": "code",
   "execution_count": 75,
   "id": "ddfbbd65-ef21-47e2-ba8b-1ceeffb1ea0b",
   "metadata": {},
   "outputs": [],
   "source": [
    "\"\"\"Remove existing files from folder\"\"\"\n",
    "files = glob.glob(\"../top_50/*\")\n",
    "for f in files:\n",
    "    os.remove(f)"
   ]
  },
  {
   "cell_type": "code",
   "execution_count": 67,
   "id": "83584f92-3de5-4501-ba2d-cd332f61a900",
   "metadata": {},
   "outputs": [],
   "source": [
    "\"\"\"Get the top 50 Nifty\"\"\"\n",
    "data = pd.read_csv(\"../data/NIFTY-ALPHA-50.csv\")\n",
    "tickers = data['SYMBOL \\n'][1:]\n",
    "tickers\n",
    "stocks_name = []\n",
    "for value in tickers:\n",
    "    stocks_name.append(value+'.NS')"
   ]
  },
  {
   "cell_type": "code",
   "execution_count": 77,
   "id": "1377631c-f5ab-404a-9da9-167fdbcfb7c1",
   "metadata": {},
   "outputs": [],
   "source": [
    "def save_outcome_image(stock):\n",
    "    \n",
    "    Image1 = Image.open(f'../BB/{stock}.png')\n",
    "    Image2 = Image.open(f'../LR/{stock}.png')\n",
    "    Image3 = Image.open(f'../MONTHLY_RETURN/{stock}.png')\n",
    "    Image4 = Image.open(f'../SEASONALITY/{stock}.png')\n",
    "    \n",
    "    new_image = Image.new('RGBA',size=(1200, 2400))\n",
    "    new_image.paste(Image1, (0,0))\n",
    "    new_image.paste(Image2, (0,600))\n",
    "    new_image.paste(Image3, (0,1200))\n",
    "    new_image.paste(Image4, (0,1800))\n",
    "    new_image.save(f\"../top_50/{stock}.png\")\n",
    "    plt.close()"
   ]
  },
  {
   "cell_type": "markdown",
   "id": "e839f531-7f6d-455c-bb19-d731b87ca7b7",
   "metadata": {},
   "source": [
    "Load data"
   ]
  },
  {
   "cell_type": "code",
   "execution_count": 71,
   "id": "61ddc8cd-f7d8-49d6-bd1b-593c77506792",
   "metadata": {},
   "outputs": [],
   "source": [
    "def return_final_output(df, ticker):\n",
    "    a = {}\n",
    "    a['BB'] = create_bb(df, ticker)\n",
    "    a[\"LR\"] = create_LR(df,ticker)\n",
    "    a[\"MONTHLY_RETURN\"]= create_monthly_return(df,ticker)\n",
    "    a[\"SEASONALITY\"] = return_seasonality(df,ticker)\n",
    "    return a"
   ]
  },
  {
   "cell_type": "markdown",
   "id": "d22414c4-07ab-49b7-90c8-61a5d6cc2b75",
   "metadata": {},
   "source": [
    "Draw 2 Standard Deviation plot"
   ]
  },
  {
   "cell_type": "code",
   "execution_count": 73,
   "id": "b1acb44a-54da-40f9-9e34-c4cb2c124f81",
   "metadata": {},
   "outputs": [],
   "source": [
    "def create_bb(data, ticker):\n",
    "    data['rolling_mean'] = data['Close'].rolling(45).mean()\n",
    "    data['rolling_std'] = data['Close'].rolling(45).std()\n",
    "    data['2UP'] = data['rolling_mean'] + 2.5*data['rolling_std']\n",
    "    data['2DOWN'] = data['rolling_mean'] - 2.5*data['rolling_std']\n",
    "    plt.figure(figsize=(12,6))\n",
    "    plt.plot(data['Close'])\n",
    "    plt.plot(data['rolling_mean'])\n",
    "    plt.plot(data['2UP'])\n",
    "    plt.plot(data['2DOWN'])\n",
    "    # return fig\n",
    "    plt.savefig(f\"../BB/{ticker}.png\")\n",
    "    plt.close()"
   ]
  },
  {
   "cell_type": "markdown",
   "id": "90cdfdbd-72b0-4c06-b370-cd38089238e2",
   "metadata": {},
   "source": [
    "Weekly returns"
   ]
  },
  {
   "cell_type": "code",
   "execution_count": 59,
   "id": "ed352f2e-bd9f-4d77-b7bf-8e89ba377a43",
   "metadata": {},
   "outputs": [],
   "source": [
    "\n",
    "def create_monthly_return(df,ticker):\n",
    "    weekly_data = data['Close'].resample('M', label='left').ffill().pct_change()*100\n",
    "    plt.figure(figsize=(12,4))\n",
    "    plt.plot(weekly_data)\n",
    "    plt.axhline(0, color = 'red')\n",
    "    plt.axhline(np.mean(weekly_data) + np.std(weekly_data), color='purple', linewidth=2);\n",
    "    plt.axhline(np.mean(weekly_data) - np.std(weekly_data), color='green', linewidth=2);\n",
    "    plt.axhline(np.mean(weekly_data) + 2* np.std(weekly_data), color='purple');\n",
    "    plt.axhline(np.mean(weekly_data) - 2*np.std(weekly_data), color='green')\n",
    "    # return fig\n",
    "    plt.savefig(f\"../MONTHLY_RETURN/{ticker}.png\")\n",
    "    plt.close()"
   ]
  },
  {
   "cell_type": "markdown",
   "id": "f2095d2e-ae96-4a76-8aa8-b1d94a84e309",
   "metadata": {},
   "source": [
    "Linear Regression"
   ]
  },
  {
   "cell_type": "code",
   "execution_count": 60,
   "id": "d93e2517-36f5-4868-8d87-db682c468d33",
   "metadata": {},
   "outputs": [],
   "source": [
    "def create_LR(df,ticker):\n",
    "    y = np.array(data['Close'])\n",
    "    X = pd.to_datetime(data['Close'].index).map(dt.datetime.toordinal)\n",
    "    X = np.array(X)\n",
    "    intercept, slope = np.polynomial.polynomial.polyfit(X, y, deg =1)\n",
    "    # fig = go.Figure()\n",
    "    # fig.add_trace(go.Scatter(x=X,y=y,mode = 'lines',name = 'Close'))\n",
    "    # fig.add_trace(go.Scatter(x=X,y=slope*X+intercept, mode = 'lines',line=dict(color='Red'), name= \"RegressionLine\"))\n",
    "    # fig.update_layout(autosize=True,width=1000,height=400)\n",
    "    # # return fig\n",
    "    # fig.write_image(\"../LR/test.png\")\n",
    "    plt.figure(figsize=(12,4))\n",
    "    plt.plot(X,y)\n",
    "    plt.plot(X,slope*X+intercept)\n",
    "    plt.savefig(f\"../LR/{ticker}.png\")\n",
    "    plt.close()"
   ]
  },
  {
   "cell_type": "code",
   "execution_count": 62,
   "id": "bc90859c-120f-4f28-9e1d-6472b7dddadf",
   "metadata": {},
   "outputs": [],
   "source": [
    "def return_seasonality(data, ticker):\n",
    "    '''This return the monthly return of the ticker\n",
    "    '''\n",
    "    data = data['Close'].resample(\"M\").ffill().pct_change()\n",
    "    data = pd.DataFrame(data)\n",
    "    data['date'] = data.index\n",
    "    # print(data['date'])\n",
    "    data['year'] = data.index.year\n",
    "    \n",
    "    new_df = pd.DataFrame()\n",
    "    for value in data['year'].unique():\n",
    "        # print(value)\n",
    "        new_df[str(value)] = pd.Series(data[data['year']==value]['Close'].values)\n",
    "        value+=1\n",
    "\n",
    "        new_df = new_df.dropna()\n",
    "    # return px.line(new_df)\n",
    "    # fig = px.line(new_df)\n",
    "    # fig.write_image(\"../SEASONALITY/test.png\")\n",
    "    plt.figure(figsize=(12,4))\n",
    "    plt.plot(new_df)\n",
    "    plt.legend(new_df)\n",
    "    # plt.plot(X,slope*X+intercept)\n",
    "    # plt.savefig(\"../LR/test.png\")\n",
    "    plt.savefig(f\"../SEASONALITY/{ticker}.png\")\n",
    "    # plt.close()"
   ]
  },
  {
   "cell_type": "code",
   "execution_count": 78,
   "id": "b9e151c6-0530-4bd0-998d-ea7f50ca3727",
   "metadata": {},
   "outputs": [
    {
     "name": "stderr",
     "output_type": "stream",
     "text": [
      "[*********************100%%**********************]  1 of 1 completed\n",
      "[*********************100%%**********************]  1 of 1 completed\n",
      "[*********************100%%**********************]  1 of 1 completed\n",
      "[*********************100%%**********************]  1 of 1 completed\n",
      "[*********************100%%**********************]  1 of 1 completed\n",
      "[*********************100%%**********************]  1 of 1 completed\n",
      "[*********************100%%**********************]  1 of 1 completed\n",
      "[*********************100%%**********************]  1 of 1 completed\n",
      "[*********************100%%**********************]  1 of 1 completed\n",
      "[*********************100%%**********************]  1 of 1 completed\n",
      "[*********************100%%**********************]  1 of 1 completed\n",
      "[*********************100%%**********************]  1 of 1 completed\n",
      "[*********************100%%**********************]  1 of 1 completed\n",
      "[*********************100%%**********************]  1 of 1 completed\n",
      "[*********************100%%**********************]  1 of 1 completed\n",
      "[*********************100%%**********************]  1 of 1 completed\n",
      "[*********************100%%**********************]  1 of 1 completed\n",
      "[*********************100%%**********************]  1 of 1 completed\n",
      "[*********************100%%**********************]  1 of 1 completed\n",
      "[*********************100%%**********************]  1 of 1 completed\n",
      "[*********************100%%**********************]  1 of 1 completed\n",
      "[*********************100%%**********************]  1 of 1 completed\n",
      "[*********************100%%**********************]  1 of 1 completed\n",
      "[*********************100%%**********************]  1 of 1 completed\n",
      "[*********************100%%**********************]  1 of 1 completed\n",
      "[*********************100%%**********************]  1 of 1 completed\n",
      "[*********************100%%**********************]  1 of 1 completed\n",
      "[*********************100%%**********************]  1 of 1 completed\n",
      "[*********************100%%**********************]  1 of 1 completed\n",
      "[*********************100%%**********************]  1 of 1 completed\n",
      "[*********************100%%**********************]  1 of 1 completed\n",
      "[*********************100%%**********************]  1 of 1 completed\n",
      "[*********************100%%**********************]  1 of 1 completed\n",
      "[*********************100%%**********************]  1 of 1 completed\n",
      "[*********************100%%**********************]  1 of 1 completed\n",
      "[*********************100%%**********************]  1 of 1 completed\n",
      "[*********************100%%**********************]  1 of 1 completed\n",
      "[*********************100%%**********************]  1 of 1 completed\n",
      "[*********************100%%**********************]  1 of 1 completed\n",
      "[*********************100%%**********************]  1 of 1 completed\n",
      "[*********************100%%**********************]  1 of 1 completed\n",
      "[*********************100%%**********************]  1 of 1 completed\n",
      "[*********************100%%**********************]  1 of 1 completed\n",
      "[*********************100%%**********************]  1 of 1 completed\n",
      "[*********************100%%**********************]  1 of 1 completed\n",
      "[*********************100%%**********************]  1 of 1 completed\n",
      "[*********************100%%**********************]  1 of 1 completed\n",
      "[*********************100%%**********************]  1 of 1 completed\n",
      "[*********************100%%**********************]  1 of 1 completed\n",
      "[*********************100%%**********************]  1 of 1 completed\n"
     ]
    }
   ],
   "source": [
    "# List of stock\n",
    "tickers = stocks_name\n",
    "for stock in tickers:\n",
    "    # Ticker = \"ICICIBANK.NS\"\n",
    "    start_date = \"2021-01-01\"\n",
    "    end_date = \"2024-12-31\"\n",
    "    download_data = yf.download(tickers= stock, start=start_date, end=end_date)\n",
    "    data = pd.DataFrame(download_data['Close'])\n",
    "    return_final_output(data,stock)\n",
    "    # plt.savefig(f\"../top_50/{stock}.png\")\n",
    "    save_outcome_image(stock)"
   ]
  },
  {
   "cell_type": "code",
   "execution_count": null,
   "id": "9f8b0160-7f81-42e4-9d87-cf67da79d7b0",
   "metadata": {},
   "outputs": [],
   "source": []
  },
  {
   "cell_type": "code",
   "execution_count": null,
   "id": "49c3cf3f-3c0f-4a50-bf4b-70944dc74370",
   "metadata": {},
   "outputs": [],
   "source": []
  },
  {
   "cell_type": "code",
   "execution_count": null,
   "id": "532e89b7-e865-4e28-a1e8-5a6cc5cf4d7d",
   "metadata": {},
   "outputs": [],
   "source": []
  }
 ],
 "metadata": {
  "kernelspec": {
   "display_name": "Python 3 (ipykernel)",
   "language": "python",
   "name": "python3"
  },
  "language_info": {
   "codemirror_mode": {
    "name": "ipython",
    "version": 3
   },
   "file_extension": ".py",
   "mimetype": "text/x-python",
   "name": "python",
   "nbconvert_exporter": "python",
   "pygments_lexer": "ipython3",
   "version": "3.11.7"
  }
 },
 "nbformat": 4,
 "nbformat_minor": 5
}
